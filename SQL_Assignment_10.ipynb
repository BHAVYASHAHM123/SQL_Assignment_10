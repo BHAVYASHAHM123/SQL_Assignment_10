{
  "nbformat": 4,
  "nbformat_minor": 0,
  "metadata": {
    "colab": {
      "name": "SQL_Assignment_10.ipynb",
      "provenance": []
    },
    "kernelspec": {
      "name": "python3",
      "display_name": "Python 3"
    },
    "language_info": {
      "name": "python"
    }
  },
  "cells": [
    {
      "cell_type": "markdown",
      "source": [
        "Q19) Write an SQL query to determine the 5th highest salary without using TOP or limit method.\n",
        "\n",
        "Ans) \n",
        "\n",
        "SELECT MIN(EmpSalary) from ( SELECT EmpSalary from Employee ORDER BY EmpSalary DESC LIMIT 5 );"
      ],
      "metadata": {
        "id": "CLojr69T9jvA"
      }
    },
    {
      "cell_type": "markdown",
      "source": [
        "Q20) Write an SQL query to fetch the list of employees with the same salary.\n",
        "\n",
        "Ans) \n",
        "\n",
        "SELECT s1.Name, s1.Station, s1.Salary FROM Staff s1 INNER JOIN Staff s2 ON s1.Salary = s2.Salary AND s1.Name <> s2.Name"
      ],
      "metadata": {
        "id": "gc2ZTPBa9jje"
      }
    },
    {
      "cell_type": "code",
      "execution_count": null,
      "metadata": {
        "id": "qn6d-KbW9Y0f"
      },
      "outputs": [],
      "source": [
        ""
      ]
    }
  ]
}